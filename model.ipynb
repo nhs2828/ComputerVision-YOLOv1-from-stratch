{
 "cells": [
  {
   "cell_type": "code",
   "execution_count": 17,
   "metadata": {},
   "outputs": [],
   "source": [
    "import json\n",
    "import cv2\n",
    "import numpy as np\n",
    "import tensorflow as tf"
   ]
  },
  {
   "cell_type": "code",
   "execution_count": 20,
   "metadata": {},
   "outputs": [],
   "source": [
    "IMG_W = 448\n",
    "IMG_H = 448\n",
    "DEPTH = 3\n",
    "NB_CELL = 7\n",
    "NB_BOX = 2\n",
    "NB_CLASS = 2\n",
    "CLASSES = {\n",
    "    'square': 0,\n",
    "    'circle': 1\n",
    "}\n",
    "\n",
    "\n",
    "\n",
    "# label = [class]\n",
    "def load(path):\n",
    "    labs = json.load(open(path+'annotation.json'))\n",
    "    N = len(labs)\n",
    "    X = np.zeros((N, IMG_W, IMG_H, DEPTH), dtype=np.uint8)\n",
    "    Y = np.zeros((N, NB_CELL, NB_CELL, 5+NB_CLASS)) #label 5 = confidance, x, y, w, h, class one hot\n",
    "    Labels = []\n",
    "    for i in range(len(labs)):\n",
    "        # Normalise data\n",
    "        X[i] =cv2.imread(path+f'img{i}.png')/255.\n",
    "        for box in labs[i]['bboxes']:\n",
    "            # one hot\n",
    "            classe = [0]*NB_CLASS\n",
    "            classe[CLASSES[box['classe']]] = 1\n",
    "            x_center = box['x']\n",
    "            y_center = box['y']\n",
    "            w = box['w']\n",
    "            h = box['h']\n",
    "            x_index_cell, y_index_cell = int(x_center/IMG_W*NB_CELL), int(y_center/IMG_H*NB_CELL)\n",
    "            try:\n",
    "                Y[i, x_index_cell, y_index_cell] = 1, x_center, y_center, w, h, *classe\n",
    "            except IndexError:\n",
    "                print(i, x_index_cell, y_index_cell, x_center, y_center)\n",
    "    return X, Y\n",
    "            \n",
    "\n",
    "\n"
   ]
  },
  {
   "cell_type": "code",
   "execution_count": 21,
   "metadata": {},
   "outputs": [],
   "source": [
    "path = 'data/'\n",
    "X, Y = load(path=path)\n"
   ]
  },
  {
   "cell_type": "code",
   "execution_count": 27,
   "metadata": {},
   "outputs": [
    {
     "data": {
      "text/plain": [
       "array([[0., 0., 0., 0., 0., 0., 0.],\n",
       "       [0., 0., 0., 0., 0., 0., 0.],\n",
       "       [0., 0., 0., 0., 0., 0., 0.],\n",
       "       [0., 0., 0., 0., 0., 0., 0.],\n",
       "       [0., 0., 0., 1., 0., 0., 0.],\n",
       "       [0., 0., 0., 0., 0., 0., 0.],\n",
       "       [0., 0., 0., 1., 0., 1., 0.]])"
      ]
     },
     "execution_count": 27,
     "metadata": {},
     "output_type": "execute_result"
    }
   ],
   "source": [
    "Y[0][...,0]"
   ]
  },
  {
   "cell_type": "code",
   "execution_count": 22,
   "metadata": {},
   "outputs": [],
   "source": [
    "from tensorflow.keras.layers import LeakyReLU\n",
    "\n",
    "def createModelYOLOv1():\n",
    "    # 24 layers Convo, leaky ReLu for all layers except final layer (lin activation)\n",
    "    model = tf.keras.models.Sequential()\n",
    "    #Convo_1\n",
    "    model.add(tf.keras.layers.Conv2D(filters=64, kernel_size=(7,7), strides=(2, 2), padding=\"valid\", activation=LeakyReLU(alpha=0.1), input_shape=(448, 448, 3)))\n",
    "    #MaxPool2D\n",
    "    model.add(tf.keras.layers.MaxPool2D(pool_size=(2, 2), strides=(2, 2), padding=\"valid\"))\n",
    "    ########\n",
    "    #Convo_2\n",
    "    model.add(tf.keras.layers.Conv2D(filters=192, kernel_size=(3,3), strides=(1, 1), padding=(\"valid\"), activation=LeakyReLU(alpha=0.1)))\n",
    "    #MaxPool2D\n",
    "    model.add(tf.keras.layers.MaxPool2D(pool_size=(2, 2), strides=(2, 2), padding=\"valid\"))\n",
    "    #######\n",
    "    #Convo_3\n",
    "    model.add(tf.keras.layers.Conv2D(filters=128, kernel_size=(1,1), strides=(1, 1), padding=(\"valid\"), activation=LeakyReLU(alpha=0.1)))\n",
    "    #Convo_4\n",
    "    model.add(tf.keras.layers.Conv2D(filters=256, kernel_size=(3,3), strides=(1, 1), padding=(\"valid\"), activation=LeakyReLU(alpha=0.1)))\n",
    "    #Convo_5\n",
    "    model.add(tf.keras.layers.Conv2D(filters=256, kernel_size=(1,1), strides=(1, 1), padding=(\"valid\"), activation=LeakyReLU(alpha=0.1)))\n",
    "    #Convo_6\n",
    "    model.add(tf.keras.layers.Conv2D(filters=512, kernel_size=(3,3), strides=(1, 1), padding=(\"valid\"), activation=LeakyReLU(alpha=0.1)))\n",
    "    #MaxPool2D\n",
    "    model.add(tf.keras.layers.MaxPool2D(pool_size=(2, 2), strides=(2, 2), padding=\"valid\"))\n",
    "    #######\n",
    "    #Convo_7\n",
    "    model.add(tf.keras.layers.Conv2D(filters=256, kernel_size=(1,1), strides=(1, 1), padding=(\"valid\"), activation=LeakyReLU(alpha=0.1)))\n",
    "    #Convo_8\n",
    "    model.add(tf.keras.layers.Conv2D(filters=512, kernel_size=(3,3), strides=(1, 1), padding=(\"valid\"), activation=LeakyReLU(alpha=0.1)))\n",
    "    #Convo_9\n",
    "    model.add(tf.keras.layers.Conv2D(filters=256, kernel_size=(1,1), strides=(1, 1), padding=(\"valid\"), activation=LeakyReLU(alpha=0.1)))\n",
    "    #Convo_10\n",
    "    model.add(tf.keras.layers.Conv2D(filters=512, kernel_size=(3,3), strides=(1, 1), padding=(\"valid\"), activation=LeakyReLU(alpha=0.1)))\n",
    "    #Convo_11\n",
    "    model.add(tf.keras.layers.Conv2D(filters=256, kernel_size=(1,1), strides=(1, 1), padding=(\"valid\"), activation=LeakyReLU(alpha=0.1)))\n",
    "    #Convo_12\n",
    "    model.add(tf.keras.layers.Conv2D(filters=512, kernel_size=(3,3), strides=(1, 1), padding=(\"valid\"), activation=LeakyReLU(alpha=0.1)))\n",
    "    #Convo_13\n",
    "    model.add(tf.keras.layers.Conv2D(filters=256, kernel_size=(1,1), strides=(1, 1), padding=(\"valid\"), activation=LeakyReLU(alpha=0.1)))\n",
    "    #Convo_14\n",
    "    model.add(tf.keras.layers.Conv2D(filters=512, kernel_size=(3,3), strides=(1, 1), padding=(\"valid\"), activation=LeakyReLU(alpha=0.1)))\n",
    "    #Convo_15\n",
    "    model.add(tf.keras.layers.Conv2D(filters=512, kernel_size=(1,1), strides=(1, 1), padding=(\"valid\"), activation=LeakyReLU(alpha=0.1)))\n",
    "    #Convo_16\n",
    "    model.add(tf.keras.layers.Conv2D(filters=1024, kernel_size=(3,3), strides=(1, 1), padding=(\"valid\"), activation=LeakyReLU(alpha=0.1)))\n",
    "    #MaxPool2D\n",
    "    model.add(tf.keras.layers.MaxPool2D(pool_size=(2, 2), strides=(2, 2), padding=\"valid\"))\n",
    "    #######\n",
    "    #Convo_17\n",
    "    model.add(tf.keras.layers.Conv2D(filters=512, kernel_size=(1,1), strides=(1, 1), padding=(\"valid\"), activation=LeakyReLU(alpha=0.1)))\n",
    "    #Convo_18\n",
    "    model.add(tf.keras.layers.Conv2D(filters=1024, kernel_size=(3,3), strides=(1, 1), padding=(\"valid\"), activation=LeakyReLU(alpha=0.1)))\n",
    "    #Convo_19\n",
    "    model.add(tf.keras.layers.Conv2D(filters=512, kernel_size=(1,1), strides=(1, 1), padding=(\"valid\"), activation=LeakyReLU(alpha=0.1)))\n",
    "    #Convo_20\n",
    "    model.add(tf.keras.layers.Conv2D(filters=1024, kernel_size=(3,3), strides=(1, 1), padding=(\"valid\"), activation=LeakyReLU(alpha=0.1)))\n",
    "    #Convo_21\n",
    "    model.add(tf.keras.layers.Conv2D(filters=1024, kernel_size=(3,3), strides=(1, 1), padding=(\"valid\"), activation=LeakyReLU(alpha=0.1)))\n",
    "    #Convo_22\n",
    "    model.add(tf.keras.layers.Conv2D(filters=1024, kernel_size=(3,3), strides=(2, 2), padding=(\"same\"), activation=LeakyReLU(alpha=0.1)))\n",
    "    #######\n",
    "    #Convo_23\n",
    "    model.add(tf.keras.layers.Conv2D(filters=1024, kernel_size=(3,3), strides=(1, 1), padding=(\"same\"), activation=LeakyReLU(alpha=0.1)))\n",
    "    #Convo_24\n",
    "    model.add(tf.keras.layers.Conv2D(filters=1024, kernel_size=(3,3), strides=(1, 1), padding=(\"same\"), activation=LeakyReLU(alpha=0.1)))\n",
    "    #######\n",
    "    model.add(tf.keras.layers.Conv2D(filters=4096, kernel_size=(1,1), strides=(1, 1), padding=(\"valid\"), activation=LeakyReLU(alpha=0.1)))\n",
    "    #######\n",
    "    model.add(tf.keras.layers.Conv2D(filters=5*NB_BOX+NB_CLASS, kernel_size=(1,1), strides=(1, 1), padding=(\"valid\")))\n",
    "\n",
    "    return model\n"
   ]
  },
  {
   "cell_type": "code",
   "execution_count": 23,
   "metadata": {},
   "outputs": [],
   "source": [
    "model = createModelYOLOv1()"
   ]
  }
 ],
 "metadata": {
  "kernelspec": {
   "display_name": "ComputerVision",
   "language": "python",
   "name": "python3"
  },
  "language_info": {
   "codemirror_mode": {
    "name": "ipython",
    "version": 3
   },
   "file_extension": ".py",
   "mimetype": "text/x-python",
   "name": "python",
   "nbconvert_exporter": "python",
   "pygments_lexer": "ipython3",
   "version": "3.10.13"
  },
  "orig_nbformat": 4
 },
 "nbformat": 4,
 "nbformat_minor": 2
}
